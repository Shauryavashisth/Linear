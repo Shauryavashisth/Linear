{
 "cells": [
  {
   "cell_type": "code",
   "execution_count": 1,
   "metadata": {},
   "outputs": [],
   "source": [
    "import pandas as pd\n",
    "import numpy as np\n",
    "import seaborn as sns\n",
    "import matplotlib"
   ]
  },
  {
   "cell_type": "code",
   "execution_count": 2,
   "metadata": {},
   "outputs": [],
   "source": [
    "#Description\n",
    "#ID = Unique ID\n",
    "#date =  the day that house was sold\n",
    "#price = the price at which it was sold\n",
    "#bedromms = number of bedrooms\n",
    "#bathrooms = number of bathrooms\n",
    "#sqft_living = interior living space\n",
    "#sqft_lot = the land space\n",
    "#floors = number of floor\n",
    "#waterfront = apartment was overlooking the waterfront or not\n",
    "#view = the view of propertry by the rating from 0-4\n",
    "#condition = how well the infrastructure is\n",
    "#grade = the level tells abour shortness and the height\n",
    "#sqft_above = the distance above from ground to interior of house\n",
    "#sqft_basement = the distance below from ground to interior of house\n",
    "#yr_built = the year when it was bulid\n",
    "#yr_renovated = the last renovated year\n",
    "#zipcode = the area of the house\n",
    "#lat = lattitudenal aspect\n",
    "#long = longitudinal aspect\n",
    "#sqft_living15 = interior housing living space for the nearest 15 neighbors\n",
    "#sqft_lot15 = the land lots of the nearest 15 neighbors"
   ]
  },
  {
   "cell_type": "code",
   "execution_count": 3,
   "metadata": {},
   "outputs": [],
   "source": [
    "df = pd.read_csv(\"D:\\Study\\BA\\TEST\\Linear\\KC house\\kc_house_data.csv\")"
   ]
  },
  {
   "cell_type": "code",
   "execution_count": 4,
   "metadata": {},
   "outputs": [
    {
     "name": "stdout",
     "output_type": "stream",
     "text": [
      "<class 'pandas.core.frame.DataFrame'>\n",
      "RangeIndex: 21613 entries, 0 to 21612\n",
      "Data columns (total 21 columns):\n",
      " #   Column         Non-Null Count  Dtype  \n",
      "---  ------         --------------  -----  \n",
      " 0   id             21613 non-null  int64  \n",
      " 1   date           21613 non-null  object \n",
      " 2   price          21613 non-null  float64\n",
      " 3   bedrooms       21613 non-null  int64  \n",
      " 4   bathrooms      21613 non-null  float64\n",
      " 5   sqft_living    21613 non-null  int64  \n",
      " 6   sqft_lot       21613 non-null  int64  \n",
      " 7   floors         21613 non-null  float64\n",
      " 8   waterfront     21613 non-null  int64  \n",
      " 9   view           21613 non-null  int64  \n",
      " 10  condition      21613 non-null  int64  \n",
      " 11  grade          21613 non-null  int64  \n",
      " 12  sqft_above     21613 non-null  int64  \n",
      " 13  sqft_basement  21613 non-null  int64  \n",
      " 14  yr_built       21613 non-null  int64  \n",
      " 15  yr_renovated   21613 non-null  int64  \n",
      " 16  zipcode        21613 non-null  int64  \n",
      " 17  lat            21613 non-null  float64\n",
      " 18  long           21613 non-null  float64\n",
      " 19  sqft_living15  21613 non-null  int64  \n",
      " 20  sqft_lot15     21613 non-null  int64  \n",
      "dtypes: float64(5), int64(15), object(1)\n",
      "memory usage: 3.5+ MB\n"
     ]
    }
   ],
   "source": [
    "df.info()"
   ]
  },
  {
   "cell_type": "code",
   "execution_count": 5,
   "metadata": {},
   "outputs": [],
   "source": [
    "#droping the useless variable\n",
    "df = df.drop(['date','id'],axis=1)"
   ]
  },
  {
   "cell_type": "code",
   "execution_count": 6,
   "metadata": {},
   "outputs": [],
   "source": [
    "#checking missing value"
   ]
  },
  {
   "cell_type": "code",
   "execution_count": 7,
   "metadata": {},
   "outputs": [
    {
     "data": {
      "text/plain": [
       "price            0\n",
       "bedrooms         0\n",
       "bathrooms        0\n",
       "sqft_living      0\n",
       "sqft_lot         0\n",
       "floors           0\n",
       "waterfront       0\n",
       "view             0\n",
       "condition        0\n",
       "grade            0\n",
       "sqft_above       0\n",
       "sqft_basement    0\n",
       "yr_built         0\n",
       "yr_renovated     0\n",
       "zipcode          0\n",
       "lat              0\n",
       "long             0\n",
       "sqft_living15    0\n",
       "sqft_lot15       0\n",
       "dtype: int64"
      ]
     },
     "execution_count": 7,
     "metadata": {},
     "output_type": "execute_result"
    }
   ],
   "source": [
    "df.isnull().sum()"
   ]
  },
  {
   "cell_type": "code",
   "execution_count": 8,
   "metadata": {},
   "outputs": [],
   "source": [
    "#checking outliers"
   ]
  },
  {
   "cell_type": "code",
   "execution_count": 23,
   "metadata": {},
   "outputs": [
    {
     "data": {
      "text/plain": [
       "<matplotlib.axes._subplots.AxesSubplot at 0x2e145a7b760>"
      ]
     },
     "execution_count": 23,
     "metadata": {},
     "output_type": "execute_result"
    },
    {
     "data": {
      "image/png": "[encoded data removed]",
      "text/plain": [
       "<Figure size 2160x576 with 1 Axes>"
      ]
     },
     "metadata": {
      "needs_background": "light"
     },
     "output_type": "display_data"
    }
   ],
   "source": [
    "df.boxplot(figsize=(30,8))"
   ]
  },
  {
   "cell_type": "code",
   "execution_count": 10,
   "metadata": {},
   "outputs": [],
   "source": [
    "min=df['price'].quantile(0.05)\n",
    "max=df['price'].quantile(0.90)\n",
    "new=np.where(df['price']<min,min,df['price'])\n",
    "df.price=new\n",
    "new=np.where(df['price']>max,max,df['price'])\n",
    "df.price=new"
   ]
  },
  {
   "cell_type": "code",
   "execution_count": 11,
   "metadata": {},
   "outputs": [],
   "source": [
    "min=df['bedrooms'].quantile(0.05)\n",
    "max=df['bedrooms'].quantile(0.95)\n",
    "new=np.where(df['bedrooms']<min,min,df['bedrooms'])\n",
    "df.bedrooms=new\n",
    "new=np.where(df['bedrooms']>max,max,df['bedrooms'])\n",
    "df.bedrooms=new"
   ]
  },
  {
   "cell_type": "code",
   "execution_count": 12,
   "metadata": {},
   "outputs": [],
   "source": [
    "min=df['bathrooms'].quantile(0.05)\n",
    "max=df['bathrooms'].quantile(0.95)\n",
    "new=np.where(df['bathrooms']<min,min,df['bathrooms'])\n",
    "df.bathrooms=new\n",
    "new=np.where(df['bathrooms']>max,max,df['bathrooms'])\n",
    "df.bathrooms=new"
   ]
  },
  {
   "cell_type": "code",
   "execution_count": 13,
   "metadata": {},
   "outputs": [],
   "source": [
    "min=df['sqft_living'].quantile(0.05)\n",
    "max=df['sqft_living'].quantile(0.95)\n",
    "new=np.where(df['sqft_living']<min,min,df['sqft_living'])\n",
    "df.sqft_living=new\n",
    "new=np.where(df['sqft_living']>max,max,df['sqft_living'])\n",
    "df.sqft_living=new"
   ]
  },
  {
   "cell_type": "code",
   "execution_count": 14,
   "metadata": {},
   "outputs": [],
   "source": [
    "min=df['sqft_lot'].quantile(0.05)\n",
    "max=df['sqft_lot'].quantile(0.85)\n",
    "new=np.where(df['sqft_lot']<min,min,df['sqft_lot'])\n",
    "df.sqft_lot=new\n",
    "new=np.where(df['sqft_lot']>max,max,df['sqft_lot'])\n",
    "df.sqft_lot=new"
   ]
  },
  {
   "cell_type": "code",
   "execution_count": 15,
   "metadata": {},
   "outputs": [],
   "source": [
    "min=df['condition'].quantile(0.05)\n",
    "max=df['condition'].quantile(0.95)\n",
    "new=np.where(df['condition']<min,min,df['condition'])\n",
    "df.condition=new\n",
    "new=np.where(df['condition']>max,max,df['condition'])\n",
    "df.condition=new"
   ]
  },
  {
   "cell_type": "code",
   "execution_count": 16,
   "metadata": {},
   "outputs": [],
   "source": [
    "min=df['grade'].quantile(0.05)\n",
    "max=df['grade'].quantile(0.95)\n",
    "new=np.where(df['grade']<min,min,df['grade'])\n",
    "df.grade=new\n",
    "new=np.where(df['grade']>max,max,df['grade'])\n",
    "df.grade=new"
   ]
  },
  {
   "cell_type": "code",
   "execution_count": 17,
   "metadata": {},
   "outputs": [],
   "source": [
    "min=df['sqft_above'].quantile(0.05)\n",
    "max=df['sqft_above'].quantile(0.95)\n",
    "new=np.where(df['sqft_above']<min,min,df['sqft_above'])\n",
    "df.sqft_above=new\n",
    "new=np.where(df['sqft_above']>max,max,df['sqft_above'])\n",
    "df.sqft_above=new"
   ]
  },
  {
   "cell_type": "code",
   "execution_count": 18,
   "metadata": {},
   "outputs": [],
   "source": [
    "min=df['sqft_basement'].quantile(0.05)\n",
    "max=df['sqft_basement'].quantile(0.95)\n",
    "new=np.where(df['sqft_basement']<min,min,df['sqft_basement'])\n",
    "df.sqft_basement=new\n",
    "new=np.where(df['sqft_basement']>max,max,df['sqft_basement'])\n",
    "df.sqft_basement=new"
   ]
  },
  {
   "cell_type": "code",
   "execution_count": 19,
   "metadata": {},
   "outputs": [],
   "source": [
    "min=df['long'].quantile(0.05)\n",
    "max=df['long'].quantile(0.95)\n",
    "new=np.where(df['long']<min,min,df['long'])\n",
    "df.long=new\n",
    "new=np.where(df['long']>max,max,df['long'])\n",
    "df.long=new"
   ]
  },
  {
   "cell_type": "code",
   "execution_count": 20,
   "metadata": {},
   "outputs": [],
   "source": [
    "min=df['sqft_living15'].quantile(0.05)\n",
    "max=df['sqft_living15'].quantile(0.95)\n",
    "new=np.where(df['sqft_living15']<min,min,df['sqft_living15'])\n",
    "df.sqft_living15=new\n",
    "new=np.where(df['sqft_living15']>max,max,df['sqft_living15'])\n",
    "df.sqft_living15=new"
   ]
  },
  {
   "cell_type": "code",
   "execution_count": 21,
   "metadata": {},
   "outputs": [],
   "source": [
    "min=df['sqft_lot15'].quantile(0.05)\n",
    "max=df['sqft_lot15'].quantile(0.87)\n",
    "new=np.where(df['sqft_lot15']<min,min,df['sqft_lot15'])\n",
    "df.sqft_lot15=new\n",
    "new=np.where(df['sqft_lot15']>max,max,df['sqft_lot15'])\n",
    "df.sqft_lot15=new"
   ]
  },
  {
   "cell_type": "code",
   "execution_count": 22,
   "metadata": {},
   "outputs": [
    {
     "data": {
      "text/html": [
       "<div>\n",
       "<style scoped>\n",
       "    .dataframe tbody tr th:only-of-type {\n",
       "        vertical-align: middle;\n",
       "    }\n",
       "\n",
       "    .dataframe tbody tr th {\n",
       "        vertical-align: top;\n",
       "    }\n",
       "\n",
       "    .dataframe thead th {\n",
       "        text-align: right;\n",
       "    }\n",
       "</style>\n",
       "<table border=\"1\" class=\"dataframe\">\n",
       "  <thead>\n",
       "    <tr style=\"text-align: right;\">\n",
       "      <th></th>\n",
       "      <th>price</th>\n",
       "      <th>bedrooms</th>\n",
       "      <th>bathrooms</th>\n",
       "      <th>sqft_living</th>\n",
       "      <th>sqft_lot</th>\n",
       "      <th>floors</th>\n",
       "      <th>waterfront</th>\n",
       "      <th>view</th>\n",
       "      <th>condition</th>\n",
       "      <th>grade</th>\n",
       "      <th>sqft_above</th>\n",
       "      <th>sqft_basement</th>\n",
       "      <th>yr_built</th>\n",
       "      <th>yr_renovated</th>\n",
       "      <th>zipcode</th>\n",
       "      <th>lat</th>\n",
       "      <th>long</th>\n",
       "      <th>sqft_living15</th>\n",
       "      <th>sqft_lot15</th>\n",
       "    </tr>\n",
       "  </thead>\n",
       "  <tbody>\n",
       "    <tr>\n",
       "      <th>price</th>\n",
       "      <td>1.000000</td>\n",
       "      <td>0.347620</td>\n",
       "      <td>0.512281</td>\n",
       "      <td>0.680881</td>\n",
       "      <td>0.133616</td>\n",
       "      <td>0.300912</td>\n",
       "      <td>0.125226</td>\n",
       "      <td>0.317836</td>\n",
       "      <td>0.027420</td>\n",
       "      <td>0.689015</td>\n",
       "      <td>0.583974</td>\n",
       "      <td>0.273050</td>\n",
       "      <td>0.061813</td>\n",
       "      <td>0.112419</td>\n",
       "      <td>-0.036207</td>\n",
       "      <td>0.435853</td>\n",
       "      <td>0.076289</td>\n",
       "      <td>0.611013</td>\n",
       "      <td>0.128628</td>\n",
       "    </tr>\n",
       "    <tr>\n",
       "      <th>bedrooms</th>\n",
       "      <td>0.347620</td>\n",
       "      <td>1.000000</td>\n",
       "      <td>0.524512</td>\n",
       "      <td>0.618829</td>\n",
       "      <td>0.213619</td>\n",
       "      <td>0.184797</td>\n",
       "      <td>-0.005608</td>\n",
       "      <td>0.082623</td>\n",
       "      <td>0.012728</td>\n",
       "      <td>0.374120</td>\n",
       "      <td>0.510173</td>\n",
       "      <td>0.293860</td>\n",
       "      <td>0.173623</td>\n",
       "      <td>0.017239</td>\n",
       "      <td>-0.168956</td>\n",
       "      <td>-0.017432</td>\n",
       "      <td>0.170342</td>\n",
       "      <td>0.427517</td>\n",
       "      <td>0.199456</td>\n",
       "    </tr>\n",
       "    <tr>\n",
       "      <th>bathrooms</th>\n",
       "      <td>0.512281</td>\n",
       "      <td>0.524512</td>\n",
       "      <td>1.000000</td>\n",
       "      <td>0.742546</td>\n",
       "      <td>0.095773</td>\n",
       "      <td>0.515435</td>\n",
       "      <td>0.052311</td>\n",
       "      <td>0.170978</td>\n",
       "      <td>-0.148160</td>\n",
       "      <td>0.659392</td>\n",
       "      <td>0.670150</td>\n",
       "      <td>0.251897</td>\n",
       "      <td>0.529155</td>\n",
       "      <td>0.045994</td>\n",
       "      <td>-0.212284</td>\n",
       "      <td>0.019200</td>\n",
       "      <td>0.257019</td>\n",
       "      <td>0.564795</td>\n",
       "      <td>0.092340</td>\n",
       "    </tr>\n",
       "    <tr>\n",
       "      <th>sqft_living</th>\n",
       "      <td>0.680881</td>\n",
       "      <td>0.618829</td>\n",
       "      <td>0.742546</td>\n",
       "      <td>1.000000</td>\n",
       "      <td>0.336023</td>\n",
       "      <td>0.363269</td>\n",
       "      <td>0.081541</td>\n",
       "      <td>0.258760</td>\n",
       "      <td>-0.074764</td>\n",
       "      <td>0.749706</td>\n",
       "      <td>0.863110</td>\n",
       "      <td>0.383599</td>\n",
       "      <td>0.333394</td>\n",
       "      <td>0.054790</td>\n",
       "      <td>-0.205216</td>\n",
       "      <td>0.049946</td>\n",
       "      <td>0.279049</td>\n",
       "      <td>0.761608</td>\n",
       "      <td>0.321771</td>\n",
       "    </tr>\n",
       "    <tr>\n",
       "      <th>sqft_lot</th>\n",
       "      <td>0.133616</td>\n",
       "      <td>0.213619</td>\n",
       "      <td>0.095773</td>\n",
       "      <td>0.336023</td>\n",
       "      <td>1.000000</td>\n",
       "      <td>-0.231744</td>\n",
       "      <td>0.097303</td>\n",
       "      <td>0.140398</td>\n",
       "      <td>0.089005</td>\n",
       "      <td>0.207944</td>\n",
       "      <td>0.302154</td>\n",
       "      <td>0.096274</td>\n",
       "      <td>0.030636</td>\n",
       "      <td>0.019227</td>\n",
       "      <td>-0.300643</td>\n",
       "      <td>-0.129152</td>\n",
       "      <td>0.359874</td>\n",
       "      <td>0.384381</td>\n",
       "      <td>0.912381</td>\n",
       "    </tr>\n",
       "    <tr>\n",
       "      <th>floors</th>\n",
       "      <td>0.300912</td>\n",
       "      <td>0.184797</td>\n",
       "      <td>0.515435</td>\n",
       "      <td>0.363269</td>\n",
       "      <td>-0.231744</td>\n",
       "      <td>1.000000</td>\n",
       "      <td>0.023698</td>\n",
       "      <td>0.029444</td>\n",
       "      <td>-0.281685</td>\n",
       "      <td>0.470847</td>\n",
       "      <td>0.548280</td>\n",
       "      <td>-0.261372</td>\n",
       "      <td>0.489319</td>\n",
       "      <td>0.006338</td>\n",
       "      <td>-0.059121</td>\n",
       "      <td>0.049614</td>\n",
       "      <td>0.130795</td>\n",
       "      <td>0.281191</td>\n",
       "      <td>-0.226783</td>\n",
       "    </tr>\n",
       "    <tr>\n",
       "      <th>waterfront</th>\n",
       "      <td>0.125226</td>\n",
       "      <td>-0.005608</td>\n",
       "      <td>0.052311</td>\n",
       "      <td>0.081541</td>\n",
       "      <td>0.097303</td>\n",
       "      <td>0.023698</td>\n",
       "      <td>1.000000</td>\n",
       "      <td>0.401857</td>\n",
       "      <td>0.018168</td>\n",
       "      <td>0.073247</td>\n",
       "      <td>0.061277</td>\n",
       "      <td>0.060326</td>\n",
       "      <td>-0.026161</td>\n",
       "      <td>0.092885</td>\n",
       "      <td>0.030285</td>\n",
       "      <td>-0.014274</td>\n",
       "      <td>-0.035080</td>\n",
       "      <td>0.085106</td>\n",
       "      <td>0.107279</td>\n",
       "    </tr>\n",
       "    <tr>\n",
       "      <th>view</th>\n",
       "      <td>0.317836</td>\n",
       "      <td>0.082623</td>\n",
       "      <td>0.170978</td>\n",
       "      <td>0.258760</td>\n",
       "      <td>0.140398</td>\n",
       "      <td>0.029444</td>\n",
       "      <td>0.401857</td>\n",
       "      <td>1.000000</td>\n",
       "      <td>0.045030</td>\n",
       "      <td>0.239218</td>\n",
       "      <td>0.153568</td>\n",
       "      <td>0.248153</td>\n",
       "      <td>-0.053440</td>\n",
       "      <td>0.103917</td>\n",
       "      <td>0.084827</td>\n",
       "      <td>0.006157</td>\n",
       "      <td>-0.082664</td>\n",
       "      <td>0.272396</td>\n",
       "      <td>0.142804</td>\n",
       "    </tr>\n",
       "    <tr>\n",
       "      <th>condition</th>\n",
       "      <td>0.027420</td>\n",
       "      <td>0.012728</td>\n",
       "      <td>-0.148160</td>\n",
       "      <td>-0.074764</td>\n",
       "      <td>0.089005</td>\n",
       "      <td>-0.281685</td>\n",
       "      <td>0.018168</td>\n",
       "      <td>0.045030</td>\n",
       "      <td>1.000000</td>\n",
       "      <td>-0.172275</td>\n",
       "      <td>-0.182082</td>\n",
       "      <td>0.180813</td>\n",
       "      <td>-0.386710</td>\n",
       "      <td>-0.063688</td>\n",
       "      <td>0.007615</td>\n",
       "      <td>-0.017987</td>\n",
       "      <td>-0.106752</td>\n",
       "      <td>-0.103461</td>\n",
       "      <td>0.091690</td>\n",
       "    </tr>\n",
       "    <tr>\n",
       "      <th>grade</th>\n",
       "      <td>0.689015</td>\n",
       "      <td>0.374120</td>\n",
       "      <td>0.659392</td>\n",
       "      <td>0.749706</td>\n",
       "      <td>0.207944</td>\n",
       "      <td>0.470847</td>\n",
       "      <td>0.073247</td>\n",
       "      <td>0.239218</td>\n",
       "      <td>-0.172275</td>\n",
       "      <td>1.000000</td>\n",
       "      <td>0.744469</td>\n",
       "      <td>0.124080</td>\n",
       "      <td>0.457837</td>\n",
       "      <td>0.013890</td>\n",
       "      <td>-0.191701</td>\n",
       "      <td>0.111179</td>\n",
       "      <td>0.237168</td>\n",
       "      <td>0.705316</td>\n",
       "      <td>0.216511</td>\n",
       "    </tr>\n",
       "    <tr>\n",
       "      <th>sqft_above</th>\n",
       "      <td>0.583974</td>\n",
       "      <td>0.510173</td>\n",
       "      <td>0.670150</td>\n",
       "      <td>0.863110</td>\n",
       "      <td>0.302154</td>\n",
       "      <td>0.548280</td>\n",
       "      <td>0.061277</td>\n",
       "      <td>0.153568</td>\n",
       "      <td>-0.182082</td>\n",
       "      <td>0.744469</td>\n",
       "      <td>1.000000</td>\n",
       "      <td>-0.112202</td>\n",
       "      <td>0.443676</td>\n",
       "      <td>0.024465</td>\n",
       "      <td>-0.272688</td>\n",
       "      <td>-0.010287</td>\n",
       "      <td>0.386664</td>\n",
       "      <td>0.731624</td>\n",
       "      <td>0.292643</td>\n",
       "    </tr>\n",
       "    <tr>\n",
       "      <th>sqft_basement</th>\n",
       "      <td>0.273050</td>\n",
       "      <td>0.293860</td>\n",
       "      <td>0.251897</td>\n",
       "      <td>0.383599</td>\n",
       "      <td>0.096274</td>\n",
       "      <td>-0.261372</td>\n",
       "      <td>0.060326</td>\n",
       "      <td>0.248153</td>\n",
       "      <td>0.180813</td>\n",
       "      <td>0.124080</td>\n",
       "      <td>-0.112202</td>\n",
       "      <td>1.000000</td>\n",
       "      <td>-0.151735</td>\n",
       "      <td>0.069415</td>\n",
       "      <td>0.094021</td>\n",
       "      <td>0.116927</td>\n",
       "      <td>-0.164937</td>\n",
       "      <td>0.163035</td>\n",
       "      <td>0.086694</td>\n",
       "    </tr>\n",
       "    <tr>\n",
       "      <th>yr_built</th>\n",
       "      <td>0.061813</td>\n",
       "      <td>0.173623</td>\n",
       "      <td>0.529155</td>\n",
       "      <td>0.333394</td>\n",
       "      <td>0.030636</td>\n",
       "      <td>0.489319</td>\n",
       "      <td>-0.026161</td>\n",
       "      <td>-0.053440</td>\n",
       "      <td>-0.386710</td>\n",
       "      <td>0.457837</td>\n",
       "      <td>0.443676</td>\n",
       "      <td>-0.151735</td>\n",
       "      <td>1.000000</td>\n",
       "      <td>-0.224874</td>\n",
       "      <td>-0.346869</td>\n",
       "      <td>-0.148122</td>\n",
       "      <td>0.433313</td>\n",
       "      <td>0.333587</td>\n",
       "      <td>0.053309</td>\n",
       "    </tr>\n",
       "    <tr>\n",
       "      <th>yr_renovated</th>\n",
       "      <td>0.112419</td>\n",
       "      <td>0.017239</td>\n",
       "      <td>0.045994</td>\n",
       "      <td>0.054790</td>\n",
       "      <td>0.019227</td>\n",
       "      <td>0.006338</td>\n",
       "      <td>0.092885</td>\n",
       "      <td>0.103917</td>\n",
       "      <td>-0.063688</td>\n",
       "      <td>0.013890</td>\n",
       "      <td>0.024465</td>\n",
       "      <td>0.069415</td>\n",
       "      <td>-0.224874</td>\n",
       "      <td>1.000000</td>\n",
       "      <td>0.064357</td>\n",
       "      <td>0.029398</td>\n",
       "      <td>-0.073499</td>\n",
       "      <td>-0.003070</td>\n",
       "      <td>0.019147</td>\n",
       "    </tr>\n",
       "    <tr>\n",
       "      <th>zipcode</th>\n",
       "      <td>-0.036207</td>\n",
       "      <td>-0.168956</td>\n",
       "      <td>-0.212284</td>\n",
       "      <td>-0.205216</td>\n",
       "      <td>-0.300643</td>\n",
       "      <td>-0.059121</td>\n",
       "      <td>0.030285</td>\n",
       "      <td>0.084827</td>\n",
       "      <td>0.007615</td>\n",
       "      <td>-0.191701</td>\n",
       "      <td>-0.272688</td>\n",
       "      <td>0.094021</td>\n",
       "      <td>-0.346869</td>\n",
       "      <td>0.064357</td>\n",
       "      <td>1.000000</td>\n",
       "      <td>0.267048</td>\n",
       "      <td>-0.599399</td>\n",
       "      <td>-0.287258</td>\n",
       "      <td>-0.308165</td>\n",
       "    </tr>\n",
       "    <tr>\n",
       "      <th>lat</th>\n",
       "      <td>0.435853</td>\n",
       "      <td>-0.017432</td>\n",
       "      <td>0.019200</td>\n",
       "      <td>0.049946</td>\n",
       "      <td>-0.129152</td>\n",
       "      <td>0.049614</td>\n",
       "      <td>-0.014274</td>\n",
       "      <td>0.006157</td>\n",
       "      <td>-0.017987</td>\n",
       "      <td>0.111179</td>\n",
       "      <td>-0.010287</td>\n",
       "      <td>0.116927</td>\n",
       "      <td>-0.148122</td>\n",
       "      <td>0.029398</td>\n",
       "      <td>0.267048</td>\n",
       "      <td>1.000000</td>\n",
       "      <td>-0.145773</td>\n",
       "      <td>0.043870</td>\n",
       "      <td>-0.125178</td>\n",
       "    </tr>\n",
       "    <tr>\n",
       "      <th>long</th>\n",
       "      <td>0.076289</td>\n",
       "      <td>0.170342</td>\n",
       "      <td>0.257019</td>\n",
       "      <td>0.279049</td>\n",
       "      <td>0.359874</td>\n",
       "      <td>0.130795</td>\n",
       "      <td>-0.035080</td>\n",
       "      <td>-0.082664</td>\n",
       "      <td>-0.106752</td>\n",
       "      <td>0.237168</td>\n",
       "      <td>0.386664</td>\n",
       "      <td>-0.164937</td>\n",
       "      <td>0.433313</td>\n",
       "      <td>-0.073499</td>\n",
       "      <td>-0.599399</td>\n",
       "      <td>-0.145773</td>\n",
       "      <td>1.000000</td>\n",
       "      <td>0.378625</td>\n",
       "      <td>0.367678</td>\n",
       "    </tr>\n",
       "    <tr>\n",
       "      <th>sqft_living15</th>\n",
       "      <td>0.611013</td>\n",
       "      <td>0.427517</td>\n",
       "      <td>0.564795</td>\n",
       "      <td>0.761608</td>\n",
       "      <td>0.384381</td>\n",
       "      <td>0.281191</td>\n",
       "      <td>0.085106</td>\n",
       "      <td>0.272396</td>\n",
       "      <td>-0.103461</td>\n",
       "      <td>0.705316</td>\n",
       "      <td>0.731624</td>\n",
       "      <td>0.163035</td>\n",
       "      <td>0.333587</td>\n",
       "      <td>-0.003070</td>\n",
       "      <td>-0.287258</td>\n",
       "      <td>0.043870</td>\n",
       "      <td>0.378625</td>\n",
       "      <td>1.000000</td>\n",
       "      <td>0.397958</td>\n",
       "    </tr>\n",
       "    <tr>\n",
       "      <th>sqft_lot15</th>\n",
       "      <td>0.128628</td>\n",
       "      <td>0.199456</td>\n",
       "      <td>0.092340</td>\n",
       "      <td>0.321771</td>\n",
       "      <td>0.912381</td>\n",
       "      <td>-0.226783</td>\n",
       "      <td>0.107279</td>\n",
       "      <td>0.142804</td>\n",
       "      <td>0.091690</td>\n",
       "      <td>0.216511</td>\n",
       "      <td>0.292643</td>\n",
       "      <td>0.086694</td>\n",
       "      <td>0.053309</td>\n",
       "      <td>0.019147</td>\n",
       "      <td>-0.308165</td>\n",
       "      <td>-0.125178</td>\n",
       "      <td>0.367678</td>\n",
       "      <td>0.397958</td>\n",
       "      <td>1.000000</td>\n",
       "    </tr>\n",
       "  </tbody>\n",
       "</table>\n",
       "</div>"
      ],
      "text/plain": [
       "                  price  bedrooms  bathrooms  sqft_living  sqft_lot    floors  \\\n",
       "price          1.000000  0.347620   0.512281     0.680881  0.133616  0.300912   \n",
       "bedrooms       0.347620  1.000000   0.524512     0.618829  0.213619  0.184797   \n",
       "bathrooms      0.512281  0.524512   1.000000     0.742546  0.095773  0.515435   \n",
       "sqft_living    0.680881  0.618829   0.742546     1.000000  0.336023  0.363269   \n",
       "sqft_lot       0.133616  0.213619   0.095773     0.336023  1.000000 -0.231744   \n",
       "floors         0.300912  0.184797   0.515435     0.363269 -0.231744  1.000000   \n",
       "waterfront     0.125226 -0.005608   0.052311     0.081541  0.097303  0.023698   \n",
       "view           0.317836  0.082623   0.170978     0.258760  0.140398  0.029444   \n",
       "condition      0.027420  0.012728  -0.148160    -0.074764  0.089005 -0.281685   \n",
       "grade          0.689015  0.374120   0.659392     0.749706  0.207944  0.470847   \n",
       "sqft_above     0.583974  0.510173   0.670150     0.863110  0.302154  0.548280   \n",
       "sqft_basement  0.273050  0.293860   0.251897     0.383599  0.096274 -0.261372   \n",
       "yr_built       0.061813  0.173623   0.529155     0.333394  0.030636  0.489319   \n",
       "yr_renovated   0.112419  0.017239   0.045994     0.054790  0.019227  0.006338   \n",
       "zipcode       -0.036207 -0.168956  -0.212284    -0.205216 -0.300643 -0.059121   \n",
       "lat            0.435853 -0.017432   0.019200     0.049946 -0.129152  0.049614   \n",
       "long           0.076289  0.170342   0.257019     0.279049  0.359874  0.130795   \n",
       "sqft_living15  0.611013  0.427517   0.564795     0.761608  0.384381  0.281191   \n",
       "sqft_lot15     0.128628  0.199456   0.092340     0.321771  0.912381 -0.226783   \n",
       "\n",
       "               waterfront      view  condition     grade  sqft_above  \\\n",
       "price            0.125226  0.317836   0.027420  0.689015    0.583974   \n",
       "bedrooms        -0.005608  0.082623   0.012728  0.374120    0.510173   \n",
       "bathrooms        0.052311  0.170978  -0.148160  0.659392    0.670150   \n",
       "sqft_living      0.081541  0.258760  -0.074764  0.749706    0.863110   \n",
       "sqft_lot         0.097303  0.140398   0.089005  0.207944    0.302154   \n",
       "floors           0.023698  0.029444  -0.281685  0.470847    0.548280   \n",
       "waterfront       1.000000  0.401857   0.018168  0.073247    0.061277   \n",
       "view             0.401857  1.000000   0.045030  0.239218    0.153568   \n",
       "condition        0.018168  0.045030   1.000000 -0.172275   -0.182082   \n",
       "grade            0.073247  0.239218  -0.172275  1.000000    0.744469   \n",
       "sqft_above       0.061277  0.153568  -0.182082  0.744469    1.000000   \n",
       "sqft_basement    0.060326  0.248153   0.180813  0.124080   -0.112202   \n",
       "yr_built        -0.026161 -0.053440  -0.386710  0.457837    0.443676   \n",
       "yr_renovated     0.092885  0.103917  -0.063688  0.013890    0.024465   \n",
       "zipcode          0.030285  0.084827   0.007615 -0.191701   -0.272688   \n",
       "lat             -0.014274  0.006157  -0.017987  0.111179   -0.010287   \n",
       "long            -0.035080 -0.082664  -0.106752  0.237168    0.386664   \n",
       "sqft_living15    0.085106  0.272396  -0.103461  0.705316    0.731624   \n",
       "sqft_lot15       0.107279  0.142804   0.091690  0.216511    0.292643   \n",
       "\n",
       "               sqft_basement  yr_built  yr_renovated   zipcode       lat  \\\n",
       "price               0.273050  0.061813      0.112419 -0.036207  0.435853   \n",
       "bedrooms            0.293860  0.173623      0.017239 -0.168956 -0.017432   \n",
       "bathrooms           0.251897  0.529155      0.045994 -0.212284  0.019200   \n",
       "sqft_living         0.383599  0.333394      0.054790 -0.205216  0.049946   \n",
       "sqft_lot            0.096274  0.030636      0.019227 -0.300643 -0.129152   \n",
       "floors             -0.261372  0.489319      0.006338 -0.059121  0.049614   \n",
       "waterfront          0.060326 -0.026161      0.092885  0.030285 -0.014274   \n",
       "view                0.248153 -0.053440      0.103917  0.084827  0.006157   \n",
       "condition           0.180813 -0.386710     -0.063688  0.007615 -0.017987   \n",
       "grade               0.124080  0.457837      0.013890 -0.191701  0.111179   \n",
       "sqft_above         -0.112202  0.443676      0.024465 -0.272688 -0.010287   \n",
       "sqft_basement       1.000000 -0.151735      0.069415  0.094021  0.116927   \n",
       "yr_built           -0.151735  1.000000     -0.224874 -0.346869 -0.148122   \n",
       "yr_renovated        0.069415 -0.224874      1.000000  0.064357  0.029398   \n",
       "zipcode             0.094021 -0.346869      0.064357  1.000000  0.267048   \n",
       "lat                 0.116927 -0.148122      0.029398  0.267048  1.000000   \n",
       "long               -0.164937  0.433313     -0.073499 -0.599399 -0.145773   \n",
       "sqft_living15       0.163035  0.333587     -0.003070 -0.287258  0.043870   \n",
       "sqft_lot15          0.086694  0.053309      0.019147 -0.308165 -0.125178   \n",
       "\n",
       "                   long  sqft_living15  sqft_lot15  \n",
       "price          0.076289       0.611013    0.128628  \n",
       "bedrooms       0.170342       0.427517    0.199456  \n",
       "bathrooms      0.257019       0.564795    0.092340  \n",
       "sqft_living    0.279049       0.761608    0.321771  \n",
       "sqft_lot       0.359874       0.384381    0.912381  \n",
       "floors         0.130795       0.281191   -0.226783  \n",
       "waterfront    -0.035080       0.085106    0.107279  \n",
       "view          -0.082664       0.272396    0.142804  \n",
       "condition     -0.106752      -0.103461    0.091690  \n",
       "grade          0.237168       0.705316    0.216511  \n",
       "sqft_above     0.386664       0.731624    0.292643  \n",
       "sqft_basement -0.164937       0.163035    0.086694  \n",
       "yr_built       0.433313       0.333587    0.053309  \n",
       "yr_renovated  -0.073499      -0.003070    0.019147  \n",
       "zipcode       -0.599399      -0.287258   -0.308165  \n",
       "lat           -0.145773       0.043870   -0.125178  \n",
       "long           1.000000       0.378625    0.367678  \n",
       "sqft_living15  0.378625       1.000000    0.397958  \n",
       "sqft_lot15     0.367678       0.397958    1.000000  "
      ]
     },
     "execution_count": 22,
     "metadata": {},
     "output_type": "execute_result"
    }
   ],
   "source": [
    "corr = df.corr()\n",
    "corr"
   ]
  },
  {
   "cell_type": "code",
   "execution_count": 24,
   "metadata": {},
   "outputs": [],
   "source": [
    "corr.to_csv(\"new.csv\")"
   ]
  },
  {
   "cell_type": "code",
   "execution_count": 25,
   "metadata": {},
   "outputs": [],
   "source": [
    "#Sqft_living,grade,Sqft_above,Sqft_living15,Sqft_lot15,Sqft_above have high corelation with price threshhold is 0.7"
   ]
  },
  {
   "cell_type": "code",
   "execution_count": 26,
   "metadata": {},
   "outputs": [],
   "source": [
    "#Applying Linear Regression "
   ]
  },
  {
   "cell_type": "code",
   "execution_count": 27,
   "metadata": {},
   "outputs": [],
   "source": [
    "Y = df.price"
   ]
  },
  {
   "cell_type": "code",
   "execution_count": 28,
   "metadata": {},
   "outputs": [],
   "source": [
    "X = df.drop(['price','zipcode'],axis=1)"
   ]
  },
  {
   "cell_type": "code",
   "execution_count": 29,
   "metadata": {},
   "outputs": [],
   "source": [
    "from sklearn.linear_model import LinearRegression\n",
    "from sklearn.model_selection import train_test_split"
   ]
  },
  {
   "cell_type": "code",
   "execution_count": 30,
   "metadata": {},
   "outputs": [
    {
     "data": {
      "text/plain": [
       "LinearRegression()"
      ]
     },
     "execution_count": 30,
     "metadata": {},
     "output_type": "execute_result"
    }
   ],
   "source": [
    "model = LinearRegression()\n",
    "X_train, X_test, Y_train, Y_test = train_test_split(X, Y, test_size=0.3, random_state=30)\n",
    "model.fit(X_train,Y_train)"
   ]
  },
  {
   "cell_type": "code",
   "execution_count": 31,
   "metadata": {},
   "outputs": [],
   "source": [
    "Y_pred = model.predict(X_test)"
   ]
  },
  {
   "cell_type": "code",
   "execution_count": 32,
   "metadata": {},
   "outputs": [
    {
     "name": "stdout",
     "output_type": "stream",
     "text": [
      "MSE: 10861152891.937155\n",
      "RMSE: 104216.85512400168\n",
      "R2: 0.7511182035412236\n"
     ]
    }
   ],
   "source": [
    "from sklearn.metrics import mean_squared_error, r2_score\n",
    "\n",
    "mse = mean_squared_error(Y_test, Y_pred)\n",
    "print(\"MSE:\", mse)\n",
    "\n",
    "rmse = np.sqrt(mse)\n",
    "print(\"RMSE:\", rmse)\n",
    "\n",
    "r2 = r2_score(Y_test, Y_pred)\n",
    "print(\"R2:\", r2)"
   ]
  },
  {
   "cell_type": "code",
   "execution_count": 33,
   "metadata": {},
   "outputs": [
    {
     "data": {
      "text/plain": [
       "0.7511182035412236"
      ]
     },
     "execution_count": 33,
     "metadata": {},
     "output_type": "execute_result"
    }
   ],
   "source": [
    "Score = model.score(X_test,Y_test)\n",
    "Score"
   ]
  },
  {
   "cell_type": "code",
   "execution_count": 34,
   "metadata": {},
   "outputs": [],
   "source": [
    "coff = model.coef_"
   ]
  },
  {
   "cell_type": "code",
   "execution_count": 35,
   "metadata": {},
   "outputs": [
    {
     "data": {
      "text/plain": [
       "array([-8.63260853e+03,  1.87717463e+04,  1.14094533e+02, -8.52936625e-01,\n",
       "        7.54434743e+03,  6.47097859e+04,  2.19932352e+04,  2.55234787e+04,\n",
       "        7.45889692e+04, -2.82189876e+01, -3.91459429e+01, -1.57858915e+03,\n",
       "        1.42180983e+01,  5.04061074e+05,  2.39291158e+04,  5.18585852e+01,\n",
       "       -3.76995733e+00])"
      ]
     },
     "execution_count": 35,
     "metadata": {},
     "output_type": "execute_result"
    }
   ],
   "source": [
    "coff"
   ]
  },
  {
   "cell_type": "code",
   "execution_count": 36,
   "metadata": {},
   "outputs": [],
   "source": [
    "#Applyiong Decision Tree"
   ]
  },
  {
   "cell_type": "code",
   "execution_count": 37,
   "metadata": {},
   "outputs": [],
   "source": [
    "y = df.price\n",
    "x = df.drop(['price','zipcode'],axis=1)"
   ]
  },
  {
   "cell_type": "code",
   "execution_count": 38,
   "metadata": {},
   "outputs": [],
   "source": [
    "x_train, x_test, y_train, y_test = train_test_split(x, y, test_size=0.3, random_state=1)"
   ]
  },
  {
   "cell_type": "code",
   "execution_count": 39,
   "metadata": {},
   "outputs": [],
   "source": [
    "from sklearn.tree import DecisionTreeRegressor"
   ]
  },
  {
   "cell_type": "code",
   "execution_count": 40,
   "metadata": {},
   "outputs": [],
   "source": [
    "from sklearn.metrics import explained_variance_score"
   ]
  },
  {
   "cell_type": "code",
   "execution_count": 41,
   "metadata": {},
   "outputs": [],
   "source": [
    "Dtree = DecisionTreeRegressor(random_state=30)"
   ]
  },
  {
   "cell_type": "code",
   "execution_count": 42,
   "metadata": {},
   "outputs": [
    {
     "data": {
      "text/plain": [
       "DecisionTreeRegressor(random_state=30)"
      ]
     },
     "execution_count": 42,
     "metadata": {},
     "output_type": "execute_result"
    }
   ],
   "source": [
    "Dtree.fit(x_train, y_train)"
   ]
  },
  {
   "cell_type": "code",
   "execution_count": 43,
   "metadata": {},
   "outputs": [
    {
     "data": {
      "text/plain": [
       "0.7820244438292511"
      ]
     },
     "execution_count": 43,
     "metadata": {},
     "output_type": "execute_result"
    }
   ],
   "source": [
    "Dtree.score(x_test, y_test)"
   ]
  },
  {
   "cell_type": "code",
   "execution_count": 44,
   "metadata": {},
   "outputs": [],
   "source": [
    "pred_Dtree = Dtree.predict(x_test)"
   ]
  },
  {
   "cell_type": "code",
   "execution_count": 45,
   "metadata": {},
   "outputs": [],
   "source": [
    "Score_Dtree = Dtree.score(x_test, y_test)"
   ]
  },
  {
   "cell_type": "code",
   "execution_count": 46,
   "metadata": {},
   "outputs": [
    {
     "data": {
      "text/plain": [
       "0.7820244438292511"
      ]
     },
     "execution_count": 46,
     "metadata": {},
     "output_type": "execute_result"
    }
   ],
   "source": [
    "Score_Dtree"
   ]
  },
  {
   "cell_type": "code",
   "execution_count": 47,
   "metadata": {},
   "outputs": [],
   "source": [
    "from matplotlib import pyplot as plt\n",
    "from sklearn import tree"
   ]
  },
  {
   "cell_type": "code",
   "execution_count": 48,
   "metadata": {},
   "outputs": [],
   "source": [
    "#fig = plt.figure(figsize=(80,20))\n",
    "#_ = tree.plot_tree(Dtree,)"
   ]
  },
  {
   "cell_type": "code",
   "execution_count": 49,
   "metadata": {},
   "outputs": [],
   "source": [
    "#Applying Random Forest"
   ]
  },
  {
   "cell_type": "code",
   "execution_count": 50,
   "metadata": {},
   "outputs": [],
   "source": [
    "from sklearn.ensemble import RandomForestRegressor"
   ]
  },
  {
   "cell_type": "code",
   "execution_count": 51,
   "metadata": {},
   "outputs": [],
   "source": [
    "y = df.price\n",
    "x = df.drop(['price','zipcode'],axis=1)"
   ]
  },
  {
   "cell_type": "code",
   "execution_count": 52,
   "metadata": {},
   "outputs": [],
   "source": [
    "Rtree = RandomForestRegressor()"
   ]
  },
  {
   "cell_type": "code",
   "execution_count": 53,
   "metadata": {},
   "outputs": [
    {
     "data": {
      "text/plain": [
       "RandomForestRegressor()"
      ]
     },
     "execution_count": 53,
     "metadata": {},
     "output_type": "execute_result"
    }
   ],
   "source": [
    "Rtree.fit(x_train,y_train)"
   ]
  },
  {
   "cell_type": "code",
   "execution_count": 54,
   "metadata": {},
   "outputs": [
    {
     "data": {
      "text/plain": [
       "0.8926686149162015"
      ]
     },
     "execution_count": 54,
     "metadata": {},
     "output_type": "execute_result"
    }
   ],
   "source": [
    "Rtree.score(x_test,y_test)"
   ]
  },
  {
   "cell_type": "code",
   "execution_count": 55,
   "metadata": {},
   "outputs": [],
   "source": [
    "Ry_pred = Rtree.predict(x_test)"
   ]
  },
  {
   "cell_type": "code",
   "execution_count": 56,
   "metadata": {},
   "outputs": [
    {
     "name": "stdout",
     "output_type": "stream",
     "text": [
      "Variable: grade                Importance: 0.36\n",
      "Variable: lat                  Importance: 0.31\n",
      "Variable: sqft_living          Importance: 0.16\n",
      "Variable: long                 Importance: 0.04\n",
      "Variable: sqft_living15        Importance: 0.03\n",
      "Variable: sqft_above           Importance: 0.02\n",
      "Variable: yr_built             Importance: 0.02\n",
      "Variable: bathrooms            Importance: 0.01\n",
      "Variable: sqft_lot             Importance: 0.01\n",
      "Variable: view                 Importance: 0.01\n",
      "Variable: sqft_lot15           Importance: 0.01\n",
      "Variable: bedrooms             Importance: 0.0\n",
      "Variable: floors               Importance: 0.0\n",
      "Variable: waterfront           Importance: 0.0\n",
      "Variable: condition            Importance: 0.0\n",
      "Variable: sqft_basement        Importance: 0.0\n",
      "Variable: yr_renovated         Importance: 0.0\n"
     ]
    }
   ],
   "source": [
    "importances = list(Rtree.feature_importances_)\n",
    "feature_importances = [(feature, round(importance, 2)) for feature, importance in zip(x_test, importances)]\n",
    "feature_importances = sorted(feature_importances, key = lambda x: x[1], reverse = True)\n",
    "[print('Variable: {:20} Importance: {}'.format(*pair)) for pair in feature_importances];"
   ]
  },
  {
   "cell_type": "code",
   "execution_count": 57,
   "metadata": {},
   "outputs": [],
   "source": [
    "#Therefore the Variable Which matters the most while purchasing a home in USA is\n",
    "#1.Grade = building Construction and Design\n",
    "#2.lat = Lattitudenal Aspect\n",
    "#3.sqft_living = The interior space of living in Square foot\n",
    "#4.long = Longitude Aspect\n",
    "#5.sqft_living15 = interior housing living space for the nearest 15 neighbors in square foot\n",
    "#6.yr_built = the year which the house was initially build\n",
    "#7.bathrooms = number of bathrooms\n",
    "#8.sqft_lot = square foot of land space\n",
    "#9.view = the view from property\n",
    "#10.sqft_above = the square foot of interior housing space from ground level"
   ]
  },
  {
   "cell_type": "code",
   "execution_count": null,
   "metadata": {},
   "outputs": [],
   "source": []
  }
 ],
 "metadata": {
  "kernelspec": {
   "display_name": "Python 3",
   "language": "python",
   "name": "python3"
  },
  "language_info": {
   "codemirror_mode": {
    "name": "ipython",
    "version": 3
   },
   "file_extension": ".py",
   "mimetype": "text/x-python",
   "name": "python",
   "nbconvert_exporter": "python",
   "pygments_lexer": "ipython3",
   "version": "3.8.3"
  }
 },
 "nbformat": 4,
 "nbformat_minor": 4
}
